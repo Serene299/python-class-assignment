{
 "cells": [
  {
   "cell_type": "code",
   "execution_count": 1,
   "id": "6b22a777",
   "metadata": {},
   "outputs": [],
   "source": [
    "import numpy as np"
   ]
  },
  {
   "cell_type": "code",
   "execution_count": 2,
   "id": "321e6fd3",
   "metadata": {},
   "outputs": [],
   "source": [
    "a = [2, 5, 7]"
   ]
  },
  {
   "cell_type": "code",
   "execution_count": 3,
   "id": "3f6b4e55",
   "metadata": {},
   "outputs": [],
   "source": [
    "b = [3, 12, 27]"
   ]
  },
  {
   "cell_type": "code",
   "execution_count": 4,
   "id": "3334079d",
   "metadata": {},
   "outputs": [
    {
     "data": {
      "text/plain": [
       "[2, 5, 7, 3, 12, 27]"
      ]
     },
     "execution_count": 4,
     "metadata": {},
     "output_type": "execute_result"
    }
   ],
   "source": [
    "a+b"
   ]
  },
  {
   "cell_type": "code",
   "execution_count": 5,
   "id": "400abe43",
   "metadata": {},
   "outputs": [],
   "source": [
    "c = [m+n for m, n in zip(a,b)]"
   ]
  },
  {
   "cell_type": "code",
   "execution_count": 6,
   "id": "1da29ce4",
   "metadata": {},
   "outputs": [
    {
     "data": {
      "text/plain": [
       "[5, 17, 34]"
      ]
     },
     "execution_count": 6,
     "metadata": {},
     "output_type": "execute_result"
    }
   ],
   "source": [
    "c"
   ]
  },
  {
   "cell_type": "code",
   "execution_count": 7,
   "id": "5f8525c9",
   "metadata": {},
   "outputs": [
    {
     "data": {
      "text/plain": [
       "14"
      ]
     },
     "execution_count": 7,
     "metadata": {},
     "output_type": "execute_result"
    }
   ],
   "source": [
    "sum(a)"
   ]
  },
  {
   "cell_type": "code",
   "execution_count": 8,
   "id": "c3cd1fbc",
   "metadata": {},
   "outputs": [],
   "source": [
    "np_a = np.array(a)"
   ]
  },
  {
   "cell_type": "code",
   "execution_count": 10,
   "id": "a598c170",
   "metadata": {},
   "outputs": [],
   "source": [
    "np_b = np.array(b)"
   ]
  },
  {
   "cell_type": "code",
   "execution_count": 11,
   "id": "f4c2d368",
   "metadata": {},
   "outputs": [
    {
     "data": {
      "text/plain": [
       "array([ 5, 17, 34])"
      ]
     },
     "execution_count": 11,
     "metadata": {},
     "output_type": "execute_result"
    }
   ],
   "source": [
    "np_a + np_b"
   ]
  },
  {
   "cell_type": "code",
   "execution_count": 12,
   "id": "53ea6f88",
   "metadata": {},
   "outputs": [],
   "source": [
    "p = np.array([1,2,\"abc\"])"
   ]
  },
  {
   "cell_type": "code",
   "execution_count": 13,
   "id": "7596c7fc",
   "metadata": {},
   "outputs": [
    {
     "data": {
      "text/plain": [
       "array(['1', '2', 'abc'], dtype='<U11')"
      ]
     },
     "execution_count": 13,
     "metadata": {},
     "output_type": "execute_result"
    }
   ],
   "source": [
    "p"
   ]
  },
  {
   "cell_type": "code",
   "execution_count": 14,
   "id": "2427f9d5",
   "metadata": {},
   "outputs": [
    {
     "ename": "UFuncTypeError",
     "evalue": "ufunc 'add' did not contain a loop with signature matching types (dtype('<U11'), dtype('<U11')) -> dtype('<U11')",
     "output_type": "error",
     "traceback": [
      "\u001b[1;31m---------------------------------------------------------------------------\u001b[0m",
      "\u001b[1;31mUFuncTypeError\u001b[0m                            Traceback (most recent call last)",
      "\u001b[1;32mC:\\Users\\BHAVIK~1.GAN\\AppData\\Local\\Temp/ipykernel_28232/3599995278.py\u001b[0m in \u001b[0;36m<module>\u001b[1;34m\u001b[0m\n\u001b[1;32m----> 1\u001b[1;33m \u001b[0mp\u001b[0m\u001b[1;33m+\u001b[0m \u001b[0mnp_a\u001b[0m\u001b[1;33m\u001b[0m\u001b[1;33m\u001b[0m\u001b[0m\n\u001b[0m",
      "\u001b[1;31mUFuncTypeError\u001b[0m: ufunc 'add' did not contain a loop with signature matching types (dtype('<U11'), dtype('<U11')) -> dtype('<U11')"
     ]
    }
   ],
   "source": [
    "p+ np_a"
   ]
  },
  {
   "cell_type": "code",
   "execution_count": 15,
   "id": "9a9fd1eb",
   "metadata": {},
   "outputs": [
    {
     "data": {
      "text/plain": [
       "7"
      ]
     },
     "execution_count": 15,
     "metadata": {},
     "output_type": "execute_result"
    }
   ],
   "source": [
    "np_a.max()"
   ]
  },
  {
   "cell_type": "code",
   "execution_count": 16,
   "id": "6b20d0cb",
   "metadata": {},
   "outputs": [
    {
     "data": {
      "text/plain": [
       "4.666666666666667"
      ]
     },
     "execution_count": 16,
     "metadata": {},
     "output_type": "execute_result"
    }
   ],
   "source": [
    "np_a.mean()"
   ]
  },
  {
   "cell_type": "code",
   "execution_count": 17,
   "id": "cdb4fb5a",
   "metadata": {},
   "outputs": [
    {
     "data": {
      "text/plain": [
       "array([1., 1., 1.])"
      ]
     },
     "execution_count": 17,
     "metadata": {},
     "output_type": "execute_result"
    }
   ],
   "source": [
    "np.ones(3)"
   ]
  },
  {
   "cell_type": "code",
   "execution_count": 18,
   "id": "2f91e614",
   "metadata": {},
   "outputs": [
    {
     "data": {
      "text/plain": [
       "array([0., 0., 0.])"
      ]
     },
     "execution_count": 18,
     "metadata": {},
     "output_type": "execute_result"
    }
   ],
   "source": [
    "np.zeros(3)"
   ]
  },
  {
   "cell_type": "code",
   "execution_count": 19,
   "id": "0f506dcf",
   "metadata": {},
   "outputs": [
    {
     "data": {
      "text/plain": [
       "array([2., 5., 7.])"
      ]
     },
     "execution_count": 19,
     "metadata": {},
     "output_type": "execute_result"
    }
   ],
   "source": [
    "np_a*np.ones(3)"
   ]
  },
  {
   "cell_type": "code",
   "execution_count": 20,
   "id": "bddabd58",
   "metadata": {},
   "outputs": [
    {
     "data": {
      "text/plain": [
       "array([ 6, 15, 21])"
      ]
     },
     "execution_count": 20,
     "metadata": {},
     "output_type": "execute_result"
    }
   ],
   "source": [
    "np_a*[3]"
   ]
  },
  {
   "cell_type": "code",
   "execution_count": 21,
   "id": "bcfb05a5",
   "metadata": {},
   "outputs": [
    {
     "data": {
      "text/plain": [
       "array([ 4.4, 11. , 15.4])"
      ]
     },
     "execution_count": 21,
     "metadata": {},
     "output_type": "execute_result"
    }
   ],
   "source": [
    "np_a*np.array([2.2])"
   ]
  },
  {
   "cell_type": "code",
   "execution_count": 22,
   "id": "5c2dbd16",
   "metadata": {},
   "outputs": [
    {
     "ename": "ValueError",
     "evalue": "operands could not be broadcast together with shapes (3,) (2,) ",
     "output_type": "error",
     "traceback": [
      "\u001b[1;31m---------------------------------------------------------------------------\u001b[0m",
      "\u001b[1;31mValueError\u001b[0m                                Traceback (most recent call last)",
      "\u001b[1;32mC:\\Users\\BHAVIK~1.GAN\\AppData\\Local\\Temp/ipykernel_28232/3306110916.py\u001b[0m in \u001b[0;36m<module>\u001b[1;34m\u001b[0m\n\u001b[1;32m----> 1\u001b[1;33m \u001b[0mnp_a\u001b[0m\u001b[1;33m*\u001b[0m\u001b[0mnp\u001b[0m\u001b[1;33m.\u001b[0m\u001b[0marray\u001b[0m\u001b[1;33m(\u001b[0m\u001b[1;33m[\u001b[0m\u001b[1;36m2.2\u001b[0m\u001b[1;33m,\u001b[0m\u001b[1;36m3.2\u001b[0m\u001b[1;33m]\u001b[0m\u001b[1;33m)\u001b[0m\u001b[1;33m\u001b[0m\u001b[1;33m\u001b[0m\u001b[0m\n\u001b[0m",
      "\u001b[1;31mValueError\u001b[0m: operands could not be broadcast together with shapes (3,) (2,) "
     ]
    }
   ],
   "source": [
    "np_a*np.array([2.2,3.2])"
   ]
  },
  {
   "cell_type": "code",
   "execution_count": 23,
   "id": "447c664f",
   "metadata": {},
   "outputs": [
    {
     "data": {
      "text/plain": [
       "5"
      ]
     },
     "execution_count": 23,
     "metadata": {},
     "output_type": "execute_result"
    }
   ],
   "source": [
    "np_a[1]"
   ]
  },
  {
   "cell_type": "code",
   "execution_count": 24,
   "id": "121df768",
   "metadata": {},
   "outputs": [
    {
     "data": {
      "text/plain": [
       "array([5, 7])"
      ]
     },
     "execution_count": 24,
     "metadata": {},
     "output_type": "execute_result"
    }
   ],
   "source": [
    "np_a[1:]"
   ]
  },
  {
   "cell_type": "code",
   "execution_count": 25,
   "id": "b57d393a",
   "metadata": {},
   "outputs": [
    {
     "data": {
      "text/plain": [
       "array([2, 5])"
      ]
     },
     "execution_count": 25,
     "metadata": {},
     "output_type": "execute_result"
    }
   ],
   "source": [
    "np_a[0:2]"
   ]
  },
  {
   "cell_type": "code",
   "execution_count": 27,
   "id": "20a1d70e",
   "metadata": {},
   "outputs": [],
   "source": [
    "np_2d = np.array([[1,2],[3,4]])"
   ]
  },
  {
   "cell_type": "code",
   "execution_count": 28,
   "id": "742f24d3",
   "metadata": {},
   "outputs": [
    {
     "data": {
      "text/plain": [
       "10"
      ]
     },
     "execution_count": 28,
     "metadata": {},
     "output_type": "execute_result"
    }
   ],
   "source": [
    "np_2d.sum()"
   ]
  },
  {
   "cell_type": "code",
   "execution_count": 29,
   "id": "bc4a4677",
   "metadata": {},
   "outputs": [
    {
     "data": {
      "text/plain": [
       "array([4, 6])"
      ]
     },
     "execution_count": 29,
     "metadata": {},
     "output_type": "execute_result"
    }
   ],
   "source": [
    "np_2d.sum(axis=0)"
   ]
  },
  {
   "cell_type": "code",
   "execution_count": 30,
   "id": "82349735",
   "metadata": {},
   "outputs": [
    {
     "data": {
      "text/plain": [
       "array([3, 7])"
      ]
     },
     "execution_count": 30,
     "metadata": {},
     "output_type": "execute_result"
    }
   ],
   "source": [
    "np_2d.sum(axis=1)"
   ]
  },
  {
   "cell_type": "code",
   "execution_count": 31,
   "id": "05b1b764",
   "metadata": {},
   "outputs": [
    {
     "ename": "TypeError",
     "evalue": "'numpy.ndarray' object is not callable",
     "output_type": "error",
     "traceback": [
      "\u001b[1;31m---------------------------------------------------------------------------\u001b[0m",
      "\u001b[1;31mTypeError\u001b[0m                                 Traceback (most recent call last)",
      "\u001b[1;32mC:\\Users\\BHAVIK~1.GAN\\AppData\\Local\\Temp/ipykernel_28232/4106328631.py\u001b[0m in \u001b[0;36m<module>\u001b[1;34m\u001b[0m\n\u001b[1;32m----> 1\u001b[1;33m \u001b[0mnp_2d\u001b[0m\u001b[1;33m.\u001b[0m\u001b[0mT\u001b[0m\u001b[1;33m(\u001b[0m\u001b[1;33m)\u001b[0m\u001b[1;33m\u001b[0m\u001b[1;33m\u001b[0m\u001b[0m\n\u001b[0m",
      "\u001b[1;31mTypeError\u001b[0m: 'numpy.ndarray' object is not callable"
     ]
    }
   ],
   "source": [
    "np_2d.T()"
   ]
  },
  {
   "cell_type": "code",
   "execution_count": 32,
   "id": "c0bfe2d8",
   "metadata": {},
   "outputs": [
    {
     "data": {
      "text/plain": [
       "array([[1, 3],\n",
       "       [2, 4]])"
      ]
     },
     "execution_count": 32,
     "metadata": {},
     "output_type": "execute_result"
    }
   ],
   "source": [
    "np_2d.T"
   ]
  },
  {
   "cell_type": "code",
   "execution_count": 34,
   "id": "9815b626",
   "metadata": {},
   "outputs": [
    {
     "data": {
      "text/plain": [
       "array([[1., 1.],\n",
       "       [1., 1.]])"
      ]
     },
     "execution_count": 34,
     "metadata": {},
     "output_type": "execute_result"
    }
   ],
   "source": [
    "np.ones([2,2])"
   ]
  },
  {
   "cell_type": "code",
   "execution_count": 36,
   "id": "a2a19ba4",
   "metadata": {},
   "outputs": [
    {
     "data": {
      "text/plain": [
       "array([[1., 0.],\n",
       "       [0., 1.]])"
      ]
     },
     "execution_count": 36,
     "metadata": {},
     "output_type": "execute_result"
    }
   ],
   "source": [
    "np.eye(2)"
   ]
  },
  {
   "cell_type": "code",
   "execution_count": 37,
   "id": "57213d72",
   "metadata": {},
   "outputs": [
    {
     "data": {
      "text/plain": [
       "array([[1, 2],\n",
       "       [3, 4]])"
      ]
     },
     "execution_count": 37,
     "metadata": {},
     "output_type": "execute_result"
    }
   ],
   "source": [
    "np_2d"
   ]
  },
  {
   "cell_type": "code",
   "execution_count": 38,
   "id": "54583779",
   "metadata": {},
   "outputs": [
    {
     "data": {
      "text/plain": [
       "array([[2., 3.],\n",
       "       [4., 5.]])"
      ]
     },
     "execution_count": 38,
     "metadata": {},
     "output_type": "execute_result"
    }
   ],
   "source": [
    "np_2d+np.ones([2,2])"
   ]
  },
  {
   "cell_type": "code",
   "execution_count": 39,
   "id": "87eadd94",
   "metadata": {},
   "outputs": [
    {
     "data": {
      "text/plain": [
       "array([[2., 3.],\n",
       "       [4., 5.]])"
      ]
     },
     "execution_count": 39,
     "metadata": {},
     "output_type": "execute_result"
    }
   ],
   "source": [
    "np_2d+np.ones(2)"
   ]
  },
  {
   "cell_type": "code",
   "execution_count": 41,
   "id": "8d0ca5db",
   "metadata": {},
   "outputs": [
    {
     "data": {
      "text/plain": [
       "array([[2., 3.],\n",
       "       [4., 5.]])"
      ]
     },
     "execution_count": 41,
     "metadata": {},
     "output_type": "execute_result"
    }
   ],
   "source": [
    "np_2d+np.ones([2,1])"
   ]
  },
  {
   "cell_type": "code",
   "execution_count": 43,
   "id": "e19aacc8",
   "metadata": {},
   "outputs": [],
   "source": [
    "np_dotp = np_2d.dot(np.array([[1,10,100],[1000,100,10]]))"
   ]
  },
  {
   "cell_type": "code",
   "execution_count": 44,
   "id": "91cf6331",
   "metadata": {},
   "outputs": [
    {
     "data": {
      "text/plain": [
       "array([[2001,  210,  120],\n",
       "       [4003,  430,  340]])"
      ]
     },
     "execution_count": 44,
     "metadata": {},
     "output_type": "execute_result"
    }
   ],
   "source": [
    "np_dotp"
   ]
  },
  {
   "cell_type": "code",
   "execution_count": 45,
   "id": "98ae8064",
   "metadata": {},
   "outputs": [
    {
     "data": {
      "text/plain": [
       "210"
      ]
     },
     "execution_count": 45,
     "metadata": {},
     "output_type": "execute_result"
    }
   ],
   "source": [
    "np_dotp[0,1]"
   ]
  },
  {
   "cell_type": "code",
   "execution_count": 46,
   "id": "cbc1b40b",
   "metadata": {},
   "outputs": [
    {
     "data": {
      "text/plain": [
       "array([[4003,  430,  340]])"
      ]
     },
     "execution_count": 46,
     "metadata": {},
     "output_type": "execute_result"
    }
   ],
   "source": [
    "np_dotp[1:3]"
   ]
  },
  {
   "cell_type": "code",
   "execution_count": 47,
   "id": "45186705",
   "metadata": {},
   "outputs": [
    {
     "data": {
      "text/plain": [
       "array([2001, 4003])"
      ]
     },
     "execution_count": 47,
     "metadata": {},
     "output_type": "execute_result"
    }
   ],
   "source": [
    "np_dotp[0:2,0]"
   ]
  },
  {
   "cell_type": "code",
   "execution_count": 48,
   "id": "b1c39f6a",
   "metadata": {},
   "outputs": [],
   "source": [
    "np_rs = np.array([1,2,3,4,5,6])"
   ]
  },
  {
   "cell_type": "code",
   "execution_count": 49,
   "id": "f2feaa22",
   "metadata": {},
   "outputs": [
    {
     "data": {
      "text/plain": [
       "array([1, 2, 3, 4, 5, 6])"
      ]
     },
     "execution_count": 49,
     "metadata": {},
     "output_type": "execute_result"
    }
   ],
   "source": [
    "np_rs"
   ]
  },
  {
   "cell_type": "code",
   "execution_count": 50,
   "id": "9800a502",
   "metadata": {},
   "outputs": [
    {
     "data": {
      "text/plain": [
       "array([[1, 2, 3],\n",
       "       [4, 5, 6]])"
      ]
     },
     "execution_count": 50,
     "metadata": {},
     "output_type": "execute_result"
    }
   ],
   "source": [
    "np_rs.reshape(2,3)"
   ]
  },
  {
   "cell_type": "code",
   "execution_count": 51,
   "id": "0dae4fcf",
   "metadata": {},
   "outputs": [
    {
     "data": {
      "text/plain": [
       "array([[1, 2],\n",
       "       [3, 4],\n",
       "       [5, 6]])"
      ]
     },
     "execution_count": 51,
     "metadata": {},
     "output_type": "execute_result"
    }
   ],
   "source": [
    "np_rs.reshape(3,2)"
   ]
  },
  {
   "cell_type": "code",
   "execution_count": 52,
   "id": "d556ffed",
   "metadata": {},
   "outputs": [
    {
     "data": {
      "text/plain": [
       "array([[1, 2],\n",
       "       [3, 4],\n",
       "       [5, 6]])"
      ]
     },
     "execution_count": 52,
     "metadata": {},
     "output_type": "execute_result"
    }
   ],
   "source": [
    "np_rs.reshape(3,-1)"
   ]
  },
  {
   "cell_type": "code",
   "execution_count": 53,
   "id": "db952d1d",
   "metadata": {},
   "outputs": [
    {
     "ename": "ValueError",
     "evalue": "cannot reshape array of size 6 into shape (4,newaxis)",
     "output_type": "error",
     "traceback": [
      "\u001b[1;31m---------------------------------------------------------------------------\u001b[0m",
      "\u001b[1;31mValueError\u001b[0m                                Traceback (most recent call last)",
      "\u001b[1;32mC:\\Users\\BHAVIK~1.GAN\\AppData\\Local\\Temp/ipykernel_28232/2065866566.py\u001b[0m in \u001b[0;36m<module>\u001b[1;34m\u001b[0m\n\u001b[1;32m----> 1\u001b[1;33m \u001b[0mnp_rs\u001b[0m\u001b[1;33m.\u001b[0m\u001b[0mreshape\u001b[0m\u001b[1;33m(\u001b[0m\u001b[1;36m4\u001b[0m\u001b[1;33m,\u001b[0m\u001b[1;33m-\u001b[0m\u001b[1;36m1\u001b[0m\u001b[1;33m)\u001b[0m\u001b[1;33m\u001b[0m\u001b[1;33m\u001b[0m\u001b[0m\n\u001b[0m",
      "\u001b[1;31mValueError\u001b[0m: cannot reshape array of size 6 into shape (4,newaxis)"
     ]
    }
   ],
   "source": [
    "np_rs.reshape(4,-1)"
   ]
  },
  {
   "cell_type": "code",
   "execution_count": 54,
   "id": "b53c8a9c",
   "metadata": {},
   "outputs": [
    {
     "data": {
      "text/plain": [
       "array([[1, 2, 3],\n",
       "       [4, 5, 6]])"
      ]
     },
     "execution_count": 54,
     "metadata": {},
     "output_type": "execute_result"
    }
   ],
   "source": [
    "np_rs.reshape(2,-1)"
   ]
  },
  {
   "cell_type": "code",
   "execution_count": 56,
   "id": "d1d8816c",
   "metadata": {},
   "outputs": [
    {
     "ename": "ValueError",
     "evalue": "cannot reshape array of size 6 into shape (2,2,newaxis)",
     "output_type": "error",
     "traceback": [
      "\u001b[1;31m---------------------------------------------------------------------------\u001b[0m",
      "\u001b[1;31mValueError\u001b[0m                                Traceback (most recent call last)",
      "\u001b[1;32mC:\\Users\\BHAVIK~1.GAN\\AppData\\Local\\Temp/ipykernel_28232/3633391268.py\u001b[0m in \u001b[0;36m<module>\u001b[1;34m\u001b[0m\n\u001b[1;32m----> 1\u001b[1;33m \u001b[0mnp_rs\u001b[0m\u001b[1;33m.\u001b[0m\u001b[0mreshape\u001b[0m\u001b[1;33m(\u001b[0m\u001b[1;36m2\u001b[0m\u001b[1;33m,\u001b[0m\u001b[1;36m2\u001b[0m\u001b[1;33m,\u001b[0m\u001b[1;33m-\u001b[0m\u001b[1;36m1\u001b[0m\u001b[1;33m)\u001b[0m\u001b[1;33m\u001b[0m\u001b[1;33m\u001b[0m\u001b[0m\n\u001b[0m",
      "\u001b[1;31mValueError\u001b[0m: cannot reshape array of size 6 into shape (2,2,newaxis)"
     ]
    }
   ],
   "source": [
    "np_rs.reshape(2,2,-1)"
   ]
  },
  {
   "cell_type": "code",
   "execution_count": 57,
   "id": "47ded2fd",
   "metadata": {},
   "outputs": [
    {
     "data": {
      "text/plain": [
       "array([[1, 2, 3],\n",
       "       [4, 5, 6]])"
      ]
     },
     "execution_count": 57,
     "metadata": {},
     "output_type": "execute_result"
    }
   ],
   "source": [
    "np_rs.reshape(-1,3)"
   ]
  },
  {
   "cell_type": "code",
   "execution_count": 58,
   "id": "f552302c",
   "metadata": {},
   "outputs": [
    {
     "ename": "TypeError",
     "evalue": "'module' object is not callable",
     "output_type": "error",
     "traceback": [
      "\u001b[1;31m---------------------------------------------------------------------------\u001b[0m",
      "\u001b[1;31mTypeError\u001b[0m                                 Traceback (most recent call last)",
      "\u001b[1;32mC:\\Users\\BHAVIK~1.GAN\\AppData\\Local\\Temp/ipykernel_28232/4177975657.py\u001b[0m in \u001b[0;36m<module>\u001b[1;34m\u001b[0m\n\u001b[1;32m----> 1\u001b[1;33m \u001b[0mnp\u001b[0m\u001b[1;33m.\u001b[0m\u001b[0mrandom\u001b[0m\u001b[1;33m(\u001b[0m\u001b[1;36m2\u001b[0m\u001b[1;33m)\u001b[0m\u001b[1;33m\u001b[0m\u001b[1;33m\u001b[0m\u001b[0m\n\u001b[0m",
      "\u001b[1;31mTypeError\u001b[0m: 'module' object is not callable"
     ]
    }
   ],
   "source": [
    "np.random(2)"
   ]
  },
  {
   "cell_type": "code",
   "execution_count": 59,
   "id": "41fb9382",
   "metadata": {},
   "outputs": [
    {
     "data": {
      "text/plain": [
       "array([0.43365602, 0.67705795])"
      ]
     },
     "execution_count": 59,
     "metadata": {},
     "output_type": "execute_result"
    }
   ],
   "source": [
    "np.random.random(2)"
   ]
  },
  {
   "cell_type": "code",
   "execution_count": 60,
   "id": "153b11b5",
   "metadata": {},
   "outputs": [
    {
     "ename": "ModuleNotFoundError",
     "evalue": "No module named 'np'",
     "output_type": "error",
     "traceback": [
      "\u001b[1;31m---------------------------------------------------------------------------\u001b[0m",
      "\u001b[1;31mModuleNotFoundError\u001b[0m                       Traceback (most recent call last)",
      "\u001b[1;32mC:\\Users\\BHAVIK~1.GAN\\AppData\\Local\\Temp/ipykernel_28232/450834328.py\u001b[0m in \u001b[0;36m<module>\u001b[1;34m\u001b[0m\n\u001b[1;32m----> 1\u001b[1;33m \u001b[1;32mimport\u001b[0m \u001b[0mnp\u001b[0m\u001b[1;33m.\u001b[0m\u001b[0mrandom\u001b[0m \u001b[1;32mas\u001b[0m \u001b[0mrandom\u001b[0m\u001b[1;33m\u001b[0m\u001b[1;33m\u001b[0m\u001b[0m\n\u001b[0m",
      "\u001b[1;31mModuleNotFoundError\u001b[0m: No module named 'np'"
     ]
    }
   ],
   "source": [
    "import np.random as random"
   ]
  },
  {
   "cell_type": "code",
   "execution_count": 61,
   "id": "f14c1645",
   "metadata": {},
   "outputs": [],
   "source": [
    "import numpy.random as random"
   ]
  },
  {
   "cell_type": "code",
   "execution_count": 62,
   "id": "12b02be0",
   "metadata": {},
   "outputs": [
    {
     "ename": "TypeError",
     "evalue": "'module' object is not callable",
     "output_type": "error",
     "traceback": [
      "\u001b[1;31m---------------------------------------------------------------------------\u001b[0m",
      "\u001b[1;31mTypeError\u001b[0m                                 Traceback (most recent call last)",
      "\u001b[1;32mC:\\Users\\BHAVIK~1.GAN\\AppData\\Local\\Temp/ipykernel_28232/804514816.py\u001b[0m in \u001b[0;36m<module>\u001b[1;34m\u001b[0m\n\u001b[1;32m----> 1\u001b[1;33m \u001b[0mrandom\u001b[0m\u001b[1;33m(\u001b[0m\u001b[1;36m2\u001b[0m\u001b[1;33m)\u001b[0m\u001b[1;33m\u001b[0m\u001b[1;33m\u001b[0m\u001b[0m\n\u001b[0m",
      "\u001b[1;31mTypeError\u001b[0m: 'module' object is not callable"
     ]
    }
   ],
   "source": [
    "random(2)"
   ]
  },
  {
   "cell_type": "code",
   "execution_count": 63,
   "id": "29fd7c12",
   "metadata": {},
   "outputs": [
    {
     "data": {
      "text/plain": [
       "array([0.26399133, 0.7125254 ])"
      ]
     },
     "execution_count": 63,
     "metadata": {},
     "output_type": "execute_result"
    }
   ],
   "source": [
    "random.random(2)"
   ]
  },
  {
   "cell_type": "code",
   "execution_count": 65,
   "id": "50e77f01",
   "metadata": {},
   "outputs": [
    {
     "data": {
      "text/plain": [
       "array([[0.30526688, 0.41513002],\n",
       "       [0.598052  , 0.11485611],\n",
       "       [0.0684223 , 0.54712717]])"
      ]
     },
     "execution_count": 65,
     "metadata": {},
     "output_type": "execute_result"
    }
   ],
   "source": [
    "random.random([3,2])"
   ]
  },
  {
   "cell_type": "code",
   "execution_count": 66,
   "id": "5be6ad52",
   "metadata": {},
   "outputs": [],
   "source": [
    "import numpy.linalg as la"
   ]
  },
  {
   "cell_type": "code",
   "execution_count": 67,
   "id": "c91badea",
   "metadata": {},
   "outputs": [
    {
     "data": {
      "text/plain": [
       "array([[-2. ,  1. ],\n",
       "       [ 1.5, -0.5]])"
      ]
     },
     "execution_count": 67,
     "metadata": {},
     "output_type": "execute_result"
    }
   ],
   "source": [
    "la.inv(np_2d)"
   ]
  },
  {
   "cell_type": "code",
   "execution_count": 68,
   "id": "190d9150",
   "metadata": {},
   "outputs": [
    {
     "data": {
      "text/plain": [
       "(array([-0.37228132,  5.37228132]),\n",
       " array([[-0.82456484, -0.41597356],\n",
       "        [ 0.56576746, -0.90937671]]))"
      ]
     },
     "execution_count": 68,
     "metadata": {},
     "output_type": "execute_result"
    }
   ],
   "source": [
    "la.eig(np_2d)"
   ]
  },
  {
   "cell_type": "code",
   "execution_count": 70,
   "id": "2e922a01",
   "metadata": {},
   "outputs": [
    {
     "data": {
      "text/plain": [
       "(array([[-0.40455358, -0.9145143 ],\n",
       "        [-0.9145143 ,  0.40455358]]),\n",
       " array([5.4649857 , 0.36596619]),\n",
       " array([[-0.57604844, -0.81741556],\n",
       "        [ 0.81741556, -0.57604844]]))"
      ]
     },
     "execution_count": 70,
     "metadata": {},
     "output_type": "execute_result"
    }
   ],
   "source": [
    "la.svd(np_2d)"
   ]
  },
  {
   "cell_type": "code",
   "execution_count": 71,
   "id": "a441edcb",
   "metadata": {},
   "outputs": [
    {
     "data": {
      "text/plain": [
       "array([[-2. ,  1. ],\n",
       "       [ 1.5, -0.5]])"
      ]
     },
     "execution_count": 71,
     "metadata": {},
     "output_type": "execute_result"
    }
   ],
   "source": [
    "la.pinv(np_2d)"
   ]
  },
  {
   "cell_type": "code",
   "execution_count": 75,
   "id": "0b049bfc",
   "metadata": {},
   "outputs": [
    {
     "data": {
      "text/plain": [
       "array([[1.91814336, 3.3888604 , 1.73449056],\n",
       "       [4.35126763, 2.85394498, 4.83614907]])"
      ]
     },
     "execution_count": 75,
     "metadata": {},
     "output_type": "execute_result"
    }
   ],
   "source": [
    "random.rand(2,3)*5"
   ]
  },
  {
   "cell_type": "code",
   "execution_count": 74,
   "id": "6c0ec0e3",
   "metadata": {},
   "outputs": [
    {
     "data": {
      "text/plain": [
       "array([[-1.23473641,  1.20362352, -0.0691662 ],\n",
       "       [ 0.0334294 ,  1.00109125, -0.22592634]])"
      ]
     },
     "execution_count": 74,
     "metadata": {},
     "output_type": "execute_result"
    }
   ],
   "source": [
    "random.randn(2,3)"
   ]
  },
  {
   "cell_type": "raw",
   "id": "9a427a24",
   "metadata": {},
   "source": [
    "random.randint(-2,5,3)"
   ]
  },
  {
   "cell_type": "code",
   "execution_count": 76,
   "id": "2a7e897a",
   "metadata": {},
   "outputs": [
    {
     "data": {
      "text/plain": [
       "array([ 1, -1, -2,  2,  0])"
      ]
     },
     "execution_count": 76,
     "metadata": {},
     "output_type": "execute_result"
    }
   ],
   "source": [
    "random.randint(-2,3,5)"
   ]
  },
  {
   "cell_type": "code",
   "execution_count": 77,
   "id": "52b331b2",
   "metadata": {},
   "outputs": [],
   "source": [
    "random.shuffle(np_rs)"
   ]
  },
  {
   "cell_type": "code",
   "execution_count": 78,
   "id": "cee749c4",
   "metadata": {},
   "outputs": [
    {
     "data": {
      "text/plain": [
       "array([3, 6, 4, 1, 2, 5])"
      ]
     },
     "execution_count": 78,
     "metadata": {},
     "output_type": "execute_result"
    }
   ],
   "source": [
    "np_rs"
   ]
  },
  {
   "cell_type": "code",
   "execution_count": 79,
   "id": "53d0e965",
   "metadata": {},
   "outputs": [
    {
     "data": {
      "text/plain": [
       "array([1, 6])"
      ]
     },
     "execution_count": 79,
     "metadata": {},
     "output_type": "execute_result"
    }
   ],
   "source": [
    "random.choice(np_rs, 2)"
   ]
  },
  {
   "cell_type": "code",
   "execution_count": 80,
   "id": "60f3d510",
   "metadata": {},
   "outputs": [
    {
     "data": {
      "text/plain": [
       "5"
      ]
     },
     "execution_count": 80,
     "metadata": {},
     "output_type": "execute_result"
    }
   ],
   "source": [
    "random.binomial(20,0.3)"
   ]
  },
  {
   "cell_type": "code",
   "execution_count": 81,
   "id": "f581cef6",
   "metadata": {},
   "outputs": [
    {
     "data": {
      "text/plain": [
       "array([ 5,  8,  2,  7,  7, 10,  4])"
      ]
     },
     "execution_count": 81,
     "metadata": {},
     "output_type": "execute_result"
    }
   ],
   "source": [
    "random.binomial(20, 0.3, 7)"
   ]
  },
  {
   "cell_type": "code",
   "execution_count": 82,
   "id": "316e609a",
   "metadata": {},
   "outputs": [
    {
     "data": {
      "text/plain": [
       "array([0.13372559, 0.62232793, 1.1424338 , 0.36568844])"
      ]
     },
     "execution_count": 82,
     "metadata": {},
     "output_type": "execute_result"
    }
   ],
   "source": [
    "random.exponential(0.7,4)"
   ]
  },
  {
   "cell_type": "code",
   "execution_count": null,
   "id": "c3c3da6e",
   "metadata": {},
   "outputs": [],
   "source": [
    "%%time\n"
   ]
  },
  {
   "cell_type": "code",
   "execution_count": 83,
   "id": "0df740eb",
   "metadata": {},
   "outputs": [
    {
     "data": {
      "text/plain": [
       "array([-13.16651465,  -0.12575013,  -1.52670445])"
      ]
     },
     "execution_count": 83,
     "metadata": {},
     "output_type": "execute_result"
    }
   ],
   "source": [
    "random.normal(-5,12,3)"
   ]
  },
  {
   "cell_type": "code",
   "execution_count": 84,
   "id": "ae4df0fe",
   "metadata": {},
   "outputs": [
    {
     "data": {
      "text/plain": [
       "array([-13.86959627,  -6.28421112,  -2.89562533,  -2.56350521,\n",
       "         3.03949534,  -9.1472225 ,   6.53402689])"
      ]
     },
     "execution_count": 84,
     "metadata": {},
     "output_type": "execute_result"
    }
   ],
   "source": [
    "random.logistic(-2,4,7)"
   ]
  },
  {
   "cell_type": "code",
   "execution_count": 85,
   "id": "197bd554",
   "metadata": {},
   "outputs": [
    {
     "data": {
      "text/plain": [
       "(2, 2)"
      ]
     },
     "execution_count": 85,
     "metadata": {},
     "output_type": "execute_result"
    }
   ],
   "source": [
    "np_2d.shape"
   ]
  },
  {
   "cell_type": "code",
   "execution_count": 86,
   "id": "2f09cee7",
   "metadata": {},
   "outputs": [
    {
     "data": {
      "text/plain": [
       "dtype('int32')"
      ]
     },
     "execution_count": 86,
     "metadata": {},
     "output_type": "execute_result"
    }
   ],
   "source": [
    "np_2d.dtype"
   ]
  },
  {
   "cell_type": "code",
   "execution_count": 87,
   "id": "68058276",
   "metadata": {},
   "outputs": [
    {
     "data": {
      "text/plain": [
       "numpy.ndarray"
      ]
     },
     "execution_count": 87,
     "metadata": {},
     "output_type": "execute_result"
    }
   ],
   "source": [
    "type(np_2d)"
   ]
  },
  {
   "cell_type": "code",
   "execution_count": 90,
   "id": "188f8626",
   "metadata": {},
   "outputs": [
    {
     "data": {
      "text/plain": [
       "array([[1., 1.],\n",
       "       [1., 1.]])"
      ]
     },
     "execution_count": 90,
     "metadata": {},
     "output_type": "execute_result"
    }
   ],
   "source": [
    "np.vstack(np.ones([2,2]))"
   ]
  },
  {
   "cell_type": "code",
   "execution_count": 94,
   "id": "1c81dfac",
   "metadata": {},
   "outputs": [
    {
     "data": {
      "text/plain": [
       "array([[1., 2.],\n",
       "       [3., 4.],\n",
       "       [1., 1.],\n",
       "       [1., 1.]])"
      ]
     },
     "execution_count": 94,
     "metadata": {},
     "output_type": "execute_result"
    }
   ],
   "source": [
    "np.vstack((np_2d,np.ones([2,2])))"
   ]
  },
  {
   "cell_type": "code",
   "execution_count": 95,
   "id": "190dfbcf",
   "metadata": {},
   "outputs": [
    {
     "data": {
      "text/plain": [
       "array([[1., 2., 1., 1.],\n",
       "       [3., 4., 1., 1.]])"
      ]
     },
     "execution_count": 95,
     "metadata": {},
     "output_type": "execute_result"
    }
   ],
   "source": [
    "np.hstack((np_2d,np.ones([2,2])))"
   ]
  },
  {
   "cell_type": "code",
   "execution_count": 96,
   "id": "8cac5e59",
   "metadata": {},
   "outputs": [],
   "source": [
    "N=10000000\n",
    "x=list(range(N))\n",
    "y=list(range(N)) \n",
    "z=[]"
   ]
  },
  {
   "cell_type": "code",
   "execution_count": 97,
   "id": "eaf5a569",
   "metadata": {},
   "outputs": [],
   "source": [
    "np_x = np.array(x)\n",
    "np_y = np.array(y)"
   ]
  },
  {
   "cell_type": "code",
   "execution_count": 100,
   "id": "815dcb98",
   "metadata": {},
   "outputs": [
    {
     "name": "stdout",
     "output_type": "stream",
     "text": [
      "Wall time: 1.96 s\n"
     ]
    }
   ],
   "source": [
    "%%time\n",
    "for i in range(len(x)):\n",
    "    z.append(x[i]+y[i])\n"
   ]
  },
  {
   "cell_type": "code",
   "execution_count": 99,
   "id": "42adb9fa",
   "metadata": {},
   "outputs": [
    {
     "name": "stdout",
     "output_type": "stream",
     "text": [
      "Wall time: 32.9 ms\n"
     ]
    }
   ],
   "source": [
    "%%time\n",
    "np_z = np_x+np_y"
   ]
  },
  {
   "cell_type": "code",
   "execution_count": 2,
   "id": "c03eeedc-a052-4e33-8dd9-dd058b8023e2",
   "metadata": {},
   "outputs": [],
   "source": [
    "import pandas as pd\n",
    "import numpy as np"
   ]
  },
  {
   "cell_type": "code",
   "execution_count": 3,
   "id": "c895b726-68b0-40c6-8804-b02cda35271b",
   "metadata": {},
   "outputs": [
    {
     "name": "stdout",
     "output_type": "stream",
     "text": [
      "   X0     X1     X2  X3  X4   X5   y  Unnamed: 7  Unnamed: 8  Unnamed: 9  \\\n",
      "0   1  5.768  62.55   0  28  2.6  28         NaN         NaN         NaN   \n",
      "1   1  8.949  66.91   0  27 -2.0  46         NaN         NaN         NaN   \n",
      "2   1  1.024  34.42   0  20 -3.4  14         NaN         NaN         NaN   \n",
      "3   1  4.534  47.93   0  10  1.1  17         NaN         NaN         NaN   \n",
      "4   1  8.641  35.26   0  30  3.8  32         NaN         NaN         NaN   \n",
      "\n",
      "   Unnamed: 10  \n",
      "0          NaN  \n",
      "1          NaN  \n",
      "2          NaN  \n",
      "3          NaN  \n",
      "4          NaN  \n",
      "(50, 11)\n"
     ]
    }
   ],
   "source": [
    "df = pd.read_csv('NumpyExerciseData.csv')\n",
    "print(df.head(5))\n",
    "print(df.shape)"
   ]
  },
  {
   "cell_type": "code",
   "execution_count": 4,
   "id": "b9396fa1",
   "metadata": {},
   "outputs": [
    {
     "name": "stdout",
     "output_type": "stream",
     "text": [
      "X-Train :  (42, 6)\n",
      "Y-Train :  (42, 1)\n",
      "X-Test :  (7, 6)\n",
      "X-Test :  (7, 1)\n",
      "(6, 42)\n",
      "(6, 7)\n",
      "(6, 42)\n",
      "(6, 6)\n",
      "(42, 1)\n",
      "[[27.99735178]\n",
      " [46.0019147 ]\n",
      " [14.28976738]\n",
      " [17.04177241]\n",
      " [31.67075174]\n",
      " [ 8.30314785]\n",
      " [30.04695842]\n",
      " [22.233347  ]\n",
      " [23.68180355]\n",
      " [23.84690947]\n",
      " [42.76729129]\n",
      " [30.35482768]\n",
      " [19.75303311]\n",
      " [ 2.06200743]\n",
      " [18.9159862 ]\n",
      " [24.21134276]\n",
      " [22.29832155]\n",
      " [22.41862645]\n",
      " [24.40448903]\n",
      " [23.34613623]\n",
      " [33.66856162]\n",
      " [19.09487106]\n",
      " [46.26184153]\n",
      " [25.83254426]\n",
      " [28.30481522]\n",
      " [27.99226972]\n",
      " [32.63972557]\n",
      " [27.55867831]\n",
      " [22.40435261]\n",
      " [32.98528128]\n",
      " [28.17253988]\n",
      " [19.69745273]\n",
      " [25.09008735]\n",
      " [27.81587681]\n",
      " [31.43799708]\n",
      " [33.12878759]\n",
      " [41.02761124]\n",
      " [32.24662927]\n",
      " [33.04960476]\n",
      " [36.12795901]\n",
      " [58.01542692]\n",
      " [ 4.80130013]]\n",
      "[[ 9.65564574]\n",
      " [20.19281545]\n",
      " [ 5.48013131]\n",
      " [27.92782592]\n",
      " [-0.7097756 ]\n",
      " [24.80331676]\n",
      " [33.47021636]]\n",
      "SSR - Newton's Method (Train) :  2.9540159678699305\n",
      "SSR - Newton's Method (Test) :  0.8348154155610092\n"
     ]
    }
   ],
   "source": [
    "\n",
    "np_Arr = df.to_numpy()\n",
    "np_Arr.shape\n",
    "#Train-test Split\n",
    "train_X = np_Arr[:42,0:6] #X Values\n",
    "train_Y = np_Arr[:42,6:7] #y column\n",
    "print(\"X-Train : \",train_X.shape)\n",
    "print(\"Y-Train : \",train_Y.shape)\n",
    "\n",
    "test_X = np_Arr[43:,0:6] \n",
    "test_Y = np_Arr[43:,6:7]\n",
    "print(\"X-Test : \",test_X.shape)\n",
    "print(\"X-Test : \",test_Y.shape)\n",
    "# Taking Transpose\n",
    "train_Trans = train_X.transpose()\n",
    "print(train_Trans.shape)\n",
    "test_Trans = test_X.transpose()\n",
    "print(test_Trans.shape)\n",
    "#Inverse\n",
    "train_Inv = np.linalg.inv(np.dot(train_Trans,train_X))\n",
    "train_Inv.shape\n",
    "# ((X'X)^-1)*X'y\n",
    "weights = np.dot(train_Inv,np.dot(train_Trans,train_Y))\n",
    "weights\n",
    "print(train_Trans.shape)\n",
    "print(train_Inv.shape)\n",
    "print(train_Y.shape)\n",
    "y_Train_Pred = np.dot(train_X,weights)\n",
    "y_Test_Pred = np.dot(test_X,weights)\n",
    "print(y_Train_Pred)\n",
    "print(y_Test_Pred)\n",
    "#Error Computation (both Training and Test Error) Generate y values from the new generated w values Compute the SSR, MSR and RMSE between the generated y values and \n",
    "#the actual values both for the data from rows 2 to 41 and the data from rows 43 to 51\n",
    "newt_ssr_train = np.sum(np.power(np.subtract(train_Y,y_Train_Pred),2))\n",
    "newt_ssr_test = np.sum(np.power(np.subtract(test_Y,y_Test_Pred),2))\n",
    "print(\"SSR - Newton's Method (Train) : \",newt_ssr_train)\n",
    "print(\"SSR - Newton's Method (Test) : \",newt_ssr_test)\n"
   ]
  },
  {
   "cell_type": "code",
   "execution_count": 5,
   "id": "c3d6cd0a-13fe-49b3-81e2-34231a1d01d9",
   "metadata": {},
   "outputs": [
    {
     "name": "stdout",
     "output_type": "stream",
     "text": [
      "MSR - Newton's Method (Train) :  0.07033371352071263\n",
      "MSR - Newton's Method (Test) :  0.11925934508014417\n"
     ]
    }
   ],
   "source": [
    "# MSR and RMSE\n",
    "newt_msr_train = np.mean(np.power(np.subtract(train_Y,y_Train_Pred),2))\n",
    "newt_msr_test = np.mean(np.power(np.subtract(test_Y,y_Test_Pred),2))\n",
    "print(\"MSR - Newton's Method (Train) : \",newt_msr_train)\n",
    "print(\"MSR - Newton's Method (Test) : \",newt_msr_test)"
   ]
  },
  {
   "cell_type": "code",
   "execution_count": 6,
   "id": "81dc6969-9527-42d5-880e-4c5fd17a2f06",
   "metadata": {},
   "outputs": [
    {
     "name": "stdout",
     "output_type": "stream",
     "text": [
      "RMSE - Newton's Method (Train) :  0.2652050405265945\n",
      "RMSE - Newton's Method (Test) :  0.3453394635429669\n"
     ]
    }
   ],
   "source": [
    "newt_rmse_train = np.sqrt(newt_msr_train)\n",
    "newt_rmse_test = np.sqrt(newt_msr_test)\n",
    "print(\"RMSE - Newton's Method (Train) : \",newt_rmse_train)\n",
    "print(\"RMSE - Newton's Method (Test) : \",newt_rmse_test)"
   ]
  },
  {
   "cell_type": "code",
   "execution_count": null,
   "id": "cdf38318-d4d5-4333-8519-00b1ed5352e3",
   "metadata": {},
   "outputs": [],
   "source": [
    "#Regularized Newton Next step perform the matrix computation -> ((X'X+lambda*I)^-1)*X'y, using only X and y values from rows 2 to 41 Use lambda as 0.17 Compute andreport both training and test errors for the regularized newton computation"
   ]
  },
  {
   "cell_type": "code",
   "execution_count": 8,
   "id": "58cd44e3-2366-4e46-89a2-3e57f05640e8",
   "metadata": {},
   "outputs": [
    {
     "name": "stdout",
     "output_type": "stream",
     "text": [
      "Regularized Newton's Method - Weights :  [[-6.76458303]\n",
      " [ 3.23443812]\n",
      " [ 0.15156595]\n",
      " [11.6759603 ]\n",
      " [ 0.37862746]\n",
      " [-1.5650966 ]]\n"
     ]
    }
   ],
   "source": [
    "# ((X'X+lambda*I)^-1)*X'y\n",
    "reg_Newt_Train_W = np.dot(np.linalg.inv(np.add(np.dot(train_Trans,train_X),np.dot(0.17,np.identity(train_X.shape[1])))),np.dot(train_Trans,train_Y))\n",
    "reg_Newt_Train_W\n",
    "print(\"Regularized Newton's Method - Weights : \",reg_Newt_Train_W)"
   ]
  },
  {
   "cell_type": "code",
   "execution_count": 10,
   "id": "6f7a4f0b-263a-41c1-b093-90f94311c0dc",
   "metadata": {},
   "outputs": [
    {
     "name": "stdout",
     "output_type": "stream",
     "text": [
      "Y - Prediction - Regularized Newton's Method :  [[27.90442388]\n",
      " [45.67481598]\n",
      " [14.65825923]\n",
      " [17.22958364]\n",
      " [31.93986893]\n",
      " [ 8.61908135]\n",
      " [30.22704069]\n",
      " [22.51506218]\n",
      " [23.8710003 ]\n",
      " [23.78110841]\n",
      " [42.87980875]\n",
      " [30.62524582]\n",
      " [20.0686052 ]\n",
      " [ 2.41670754]\n",
      " [18.91936626]\n",
      " [24.49402371]\n",
      " [22.25422863]\n",
      " [22.2941932 ]\n",
      " [24.61386666]\n",
      " [23.25607865]\n",
      " [33.56940962]\n",
      " [19.33537669]\n",
      " [45.94873213]\n",
      " [25.5676731 ]\n",
      " [28.21586557]\n",
      " [28.11539999]\n",
      " [32.77039794]\n",
      " [27.57238841]\n",
      " [22.51395146]\n",
      " [32.74365814]\n",
      " [28.22531596]\n",
      " [19.87890057]\n",
      " [24.99005401]\n",
      " [27.85594388]\n",
      " [31.66235042]\n",
      " [33.04763956]\n",
      " [40.40106368]\n",
      " [32.16488068]\n",
      " [32.87774233]\n",
      " [35.80368785]\n",
      " [57.64805792]\n",
      " [ 4.99912022]]\n",
      "Y - Prediction - Regularized Newton's Method :  [[10.07701936]\n",
      " [20.43815661]\n",
      " [ 5.73100093]\n",
      " [27.68196849]\n",
      " [-0.41919772]\n",
      " [25.1088653 ]\n",
      " [33.63316198]]\n"
     ]
    }
   ],
   "source": [
    "y_Reg_Newt_Train_Pred = np.dot(train_X,reg_Newt_Train_W)\n",
    "y_Reg_Newt_Test_Pred = np.dot(test_X,reg_Newt_Train_W)\n",
    "print(\"Y - Prediction - Regularized Newton's Method : \",y_Reg_Newt_Train_Pred)\n",
    "print(\"Y - Prediction - Regularized Newton's Method : \",y_Reg_Newt_Test_Pred)\n"
   ]
  },
  {
   "cell_type": "code",
   "execution_count": null,
   "id": "756ece86-6ac7-460b-8034-708bb96476cd",
   "metadata": {},
   "outputs": [],
   "source": [
    "#Compute R-squared values for both Newton and Regularized Newton on both train and test datasets Look up how to compute R-squared values in excel"
   ]
  },
  {
   "cell_type": "code",
   "execution_count": 11,
   "id": "77964849-b24d-4836-8432-211fbc020f4f",
   "metadata": {},
   "outputs": [
    {
     "name": "stdout",
     "output_type": "stream",
     "text": [
      "SSR - Regularized Newton's Method (Train) :  5.1842062198156995\n",
      "SSR - Regularized Newton's Method (Test) :  0.8551708105164015\n"
     ]
    }
   ],
   "source": [
    "ssr_reg_train= np.sum(np.power(np.subtract(train_Y,y_Reg_Newt_Train_Pred),2))\n",
    "ssr_reg_test = np.sum(np.power(np.subtract(test_Y,y_Reg_Newt_Test_Pred),2))\n",
    "print(\"SSR - Regularized Newton's Method (Train) : \",ssr_reg_train)\n",
    "print(\"SSR - Regularized Newton's Method (Test) : \",ssr_reg_test)"
   ]
  },
  {
   "cell_type": "code",
   "execution_count": 12,
   "id": "909ac4ac-5191-4695-91ae-7c2f13abda15",
   "metadata": {},
   "outputs": [
    {
     "name": "stdout",
     "output_type": "stream",
     "text": [
      "SST - Regularized Newton's Method (Train) :  4605.071428571428\n",
      "SST - Regularized Newton's Method (Test) :  975.7142857142856\n"
     ]
    }
   ],
   "source": [
    "sst_train = np.sum(np.power(train_Y-np.mean(train_Y),2))\n",
    "sst_test = np.sum(np.power(test_Y-np.mean(test_Y),2))\n",
    "print(\"SST - Regularized Newton's Method (Train) : \",sst_train)\n",
    "print(\"SST - Regularized Newton's Method (Test) : \",sst_test)\n"
   ]
  },
  {
   "cell_type": "code",
   "execution_count": 13,
   "id": "c85d63d5-14c8-4b45-baba-e925705f78c1",
   "metadata": {},
   "outputs": [
    {
     "name": "stdout",
     "output_type": "stream",
     "text": [
      "R-Squared - Newton's Method (Train) :  0.9993585298265859\n",
      "R-Squared - Newton's Method (Test) :  0.9991444058698496\n"
     ]
    }
   ],
   "source": [
    "R_squared_Newt_Train = 1 - (newt_ssr_train / sst_train) #For Newton Train Set\n",
    "R_squared_Newt_Test = 1 - (newt_ssr_test / sst_test) \n",
    "print(\"R-Squared - Newton's Method (Train) : \",R_squared_Newt_Train)\n",
    "print(\"R-Squared - Newton's Method (Test) : \",R_squared_Newt_Test)"
   ]
  },
  {
   "cell_type": "code",
   "execution_count": 14,
   "id": "809544e4-5a4f-456a-be38-134cdfa804cc",
   "metadata": {},
   "outputs": [
    {
     "name": "stdout",
     "output_type": "stream",
     "text": [
      "R-Squared - Regularized Newton's Method (Train) :  0.9988742397810269\n",
      "R-Squared - Regularized Newton's Method (Test) :  0.9991235438252394\n"
     ]
    }
   ],
   "source": [
    "R_squared_Newt_Reg_Train= 1 - (ssr_reg_train / sst_train) #For Regularized Newton Train Set\n",
    "R_squared_Newt_Reg_Test = 1 - (ssr_reg_test / sst_test)\n",
    "print(\"R-Squared - Regularized Newton's Method (Train) : \",R_squared_Newt_Reg_Train)\n",
    "print(\"R-Squared - Regularized Newton's Method (Test) : \",R_squared_Newt_Reg_Test)\n"
   ]
  },
  {
   "cell_type": "markdown",
   "id": "72a1eb1e-6267-4309-95d0-52932e4490f4",
   "metadata": {},
   "source": [
    "Let's try some more things For each of the below report the following, MSR on train, MSR on test, R-squared on train and R-squared on test\r\n",
    "\r\n",
    "Use only rows 2 to 41 for training and rows 42 to 51 for testing and lambda as 0.83\r\n",
    "Use only rows 2 to 26 for training and rows 27 to 51 for testing and lambda as 0.17\r\n",
    "Use only rows 2 to 26 for training and rows 27 to 51 for testing and lambda as 0.83\r\n",
    "Use only rows 2 to 11 for training and rows 12 to 51 for testing and lambda as 0.17\r\n",
    "Use only rows 2 to 11 for training and rows 12 to 51 for testing and lambda as 0.83"
   ]
  },
  {
   "cell_type": "code",
   "execution_count": 15,
   "id": "7a13501b-ef92-4098-96ff-8050cc63f290",
   "metadata": {},
   "outputs": [
    {
     "name": "stdout",
     "output_type": "stream",
     "text": [
      "For lambda :  0.83\n",
      "(6, 42)\n",
      "(42, 6)\n",
      "MSR - Newton's Method (Train) :  0.07033371352071263\n",
      "MSR - Newton's Method (Test) :  0.10619375965192485\n",
      "R-Squared - Newton's Method (Train) :  0.9993585298265859\n",
      "R-Squared - Newton's Method (Test) :  0.9992226466181261\n",
      "R-Squared - Regularized Newton's Method (Train) :  0.9928913107550846\n",
      "R-Squared - Regularized Newton's Method (Test) :  0.9936205259861491\n",
      "For lambda :  0.17\n",
      "(6, 27)\n",
      "(27, 6)\n",
      "MSR - Newton's Method (Train) :  0.05963269971571594\n",
      "MSR - Newton's Method (Test) :  0.19537189790600548\n",
      "R-Squared - Newton's Method (Train) :  0.9993804196155756\n",
      "R-Squared - Newton's Method (Test) :  0.9987379199659021\n",
      "R-Squared - Regularized Newton's Method (Train) :  0.997920207650558\n",
      "R-Squared - Regularized Newton's Method (Test) :  0.9985558154198331\n",
      "For lambda :  0.83\n",
      "(6, 27)\n",
      "(27, 6)\n",
      "MSR - Newton's Method (Train) :  0.05963269971571594\n",
      "MSR - Newton's Method (Test) :  0.19537189790600548\n",
      "R-Squared - Newton's Method (Train) :  0.9993804196155756\n",
      "R-Squared - Newton's Method (Test) :  0.9987379199659021\n",
      "R-Squared - Regularized Newton's Method (Train) :  0.985080526490134\n",
      "R-Squared - Regularized Newton's Method (Test) :  0.9864713590510669\n",
      "For lambda :  0.17\n",
      "(6, 12)\n",
      "(12, 6)\n"
     ]
    },
    {
     "ename": "LinAlgError",
     "evalue": "Singular matrix",
     "output_type": "error",
     "traceback": [
      "\u001b[1;31m---------------------------------------------------------------------------\u001b[0m",
      "\u001b[1;31mLinAlgError\u001b[0m                               Traceback (most recent call last)",
      "Cell \u001b[1;32mIn[15], line 13\u001b[0m\n\u001b[0;32m     11\u001b[0m \u001b[38;5;28mprint\u001b[39m(train_Trans\u001b[38;5;241m.\u001b[39mshape)\n\u001b[0;32m     12\u001b[0m \u001b[38;5;28mprint\u001b[39m(train_Arr\u001b[38;5;241m.\u001b[39mshape)\n\u001b[1;32m---> 13\u001b[0m train_Inv \u001b[38;5;241m=\u001b[39m np\u001b[38;5;241m.\u001b[39mlinalg\u001b[38;5;241m.\u001b[39minv(np\u001b[38;5;241m.\u001b[39mdot(train_Trans,train_Arr))\n\u001b[0;32m     14\u001b[0m w \u001b[38;5;241m=\u001b[39m np\u001b[38;5;241m.\u001b[39mdot(train_Inv,np\u001b[38;5;241m.\u001b[39mdot(train_Trans,train_Y))\n\u001b[0;32m     15\u001b[0m y_Train_Pred \u001b[38;5;241m=\u001b[39m np\u001b[38;5;241m.\u001b[39mdot(train_Arr,w)\n",
      "File \u001b[1;32m~\\anaconda3\\Lib\\site-packages\\numpy\\linalg\\linalg.py:561\u001b[0m, in \u001b[0;36minv\u001b[1;34m(a)\u001b[0m\n\u001b[0;32m    559\u001b[0m signature \u001b[38;5;241m=\u001b[39m \u001b[38;5;124m'\u001b[39m\u001b[38;5;124mD->D\u001b[39m\u001b[38;5;124m'\u001b[39m \u001b[38;5;28;01mif\u001b[39;00m isComplexType(t) \u001b[38;5;28;01melse\u001b[39;00m \u001b[38;5;124m'\u001b[39m\u001b[38;5;124md->d\u001b[39m\u001b[38;5;124m'\u001b[39m\n\u001b[0;32m    560\u001b[0m extobj \u001b[38;5;241m=\u001b[39m get_linalg_error_extobj(_raise_linalgerror_singular)\n\u001b[1;32m--> 561\u001b[0m ainv \u001b[38;5;241m=\u001b[39m _umath_linalg\u001b[38;5;241m.\u001b[39minv(a, signature\u001b[38;5;241m=\u001b[39msignature, extobj\u001b[38;5;241m=\u001b[39mextobj)\n\u001b[0;32m    562\u001b[0m \u001b[38;5;28;01mreturn\u001b[39;00m wrap(ainv\u001b[38;5;241m.\u001b[39mastype(result_t, copy\u001b[38;5;241m=\u001b[39m\u001b[38;5;28;01mFalse\u001b[39;00m))\n",
      "File \u001b[1;32m~\\anaconda3\\Lib\\site-packages\\numpy\\linalg\\linalg.py:112\u001b[0m, in \u001b[0;36m_raise_linalgerror_singular\u001b[1;34m(err, flag)\u001b[0m\n\u001b[0;32m    111\u001b[0m \u001b[38;5;28;01mdef\u001b[39;00m \u001b[38;5;21m_raise_linalgerror_singular\u001b[39m(err, flag):\n\u001b[1;32m--> 112\u001b[0m     \u001b[38;5;28;01mraise\u001b[39;00m LinAlgError(\u001b[38;5;124m\"\u001b[39m\u001b[38;5;124mSingular matrix\u001b[39m\u001b[38;5;124m\"\u001b[39m)\n",
      "\u001b[1;31mLinAlgError\u001b[0m: Singular matrix"
     ]
    }
   ],
   "source": [
    "lambda_Arr = np.array([0.83,0.17,0.83,0.17,0.83])\n",
    "new_Dict = {0:[2,41,42,51],1:[2,26,27,51],2:[2,26,27,51],3:[2,11,12,51],4:[2,11,12,51]}\n",
    "for i in range(len(lambda_Arr)):\n",
    "    print(\"For lambda : \",lambda_Arr[i])\n",
    "    train_Arr = np_Arr[:new_Dict[i][1]+1,0:6] #X Values\n",
    "    train_Y = np_Arr[:new_Dict[i][1]+1,6:7] #y column\n",
    "    test_Arr = np_Arr[new_Dict[i][2]:new_Dict[i][3]+1,0:6] \n",
    "    test_Y = np_Arr[new_Dict[i][2]:new_Dict[i][3]+1,6:7]\n",
    "    train_Trans = train_Arr.transpose()\n",
    "    test_Trans = test_Arr.transpose()\n",
    "    print(train_Trans.shape)\n",
    "    print(train_Arr.shape)\n",
    "    train_Inv = np.linalg.inv(np.dot(train_Trans,train_Arr))\n",
    "    w = np.dot(train_Inv,np.dot(train_Trans,train_Y))\n",
    "    y_Train_Pred = np.dot(train_Arr,w)\n",
    "    y_Test_Pred = np.dot(test_Arr,w)\n",
    "    newt_ssr_train = np.sum(np.power(np.subtract(train_Y,y_Train_Pred),2))\n",
    "    newt_ssr_test = np.sum(np.power(np.subtract(test_Y,y_Test_Pred),2))\n",
    "    newt_msr_train = np.mean(np.power(np.subtract(train_Y,y_Train_Pred),2))\n",
    "    newt_msr_test = np.mean(np.power(np.subtract(test_Y,y_Test_Pred),2))\n",
    "    print(\"MSR - Newton's Method (Train) : \",newt_msr_train)\n",
    "    print(\"MSR - Newton's Method (Test) : \",newt_msr_test)\n",
    "    newt_rmse_train = np.sqrt(newt_msr_train)\n",
    "    newt_rmse_test = np.sqrt(newt_msr_test)\n",
    "    reg_Newt_Train_W = np.dot(np.linalg.inv(np.add(np.dot(train_Trans,train_Arr),np.dot(lambda_Arr[i],np.identity(train_Arr.shape[1])))),np.dot(train_Trans,train_Y))\n",
    "    y_Reg_Newt_Train_Pred = np.dot(train_Arr,reg_Newt_Train_W)\n",
    "    y_Reg_Newt_Test_Pred = np.dot(test_Arr,reg_Newt_Train_W)\n",
    "    ssr_reg_train= np.sum(np.power(np.subtract(train_Y,y_Reg_Newt_Train_Pred),2))\n",
    "    ssr_reg_test = np.sum(np.power(np.subtract(test_Y,y_Reg_Newt_Test_Pred),2))\n",
    "    sst_train = np.sum(np.power(train_Y-np.mean(train_Y),2))\n",
    "    sst_test = np.sum(np.power(test_Y-np.mean(test_Y),2))\n",
    "    R_squared_Newt_Train = 1 - (newt_ssr_train / sst_train) #For Newton Train Set\n",
    "    R_squared_Newt_Test = 1 - (newt_ssr_test / sst_test) \n",
    "    print(\"R-Squared - Newton's Method (Train) : \",R_squared_Newt_Train)\n",
    "    print(\"R-Squared - Newton's Method (Test) : \",R_squared_Newt_Test)\n",
    "    R_squared_Newt_Reg_Train= 1 - (ssr_reg_train / sst_train) #For Regularized Newton Train Set\n",
    "    R_squared_Newt_Reg_Test = 1 - (ssr_reg_test / sst_test)\n",
    "    print(\"R-Squared - Regularized Newton's Method (Train) : \",R_squared_Newt_Reg_Train)\n",
    "    print(\"R-Squared - Regularized Newton's Method (Test) : \",R_squared_Newt_Reg_Test)"
   ]
  },
  {
   "cell_type": "code",
   "execution_count": null,
   "id": "c8f68f88-d621-4138-bc7e-d87b57f39892",
   "metadata": {},
   "outputs": [],
   "source": [
    "#A square matrix that does not have a matrix inverse.\n",
    "#A matrix is singular iff its determinant is 0\n"
   ]
  }
 ],
 "metadata": {
  "kernelspec": {
   "display_name": "Python 3 (ipykernel)",
   "language": "python",
   "name": "python3"
  },
  "language_info": {
   "codemirror_mode": {
    "name": "ipython",
    "version": 3
   },
   "file_extension": ".py",
   "mimetype": "text/x-python",
   "name": "python",
   "nbconvert_exporter": "python",
   "pygments_lexer": "ipython3",
   "version": "3.11.7"
  }
 },
 "nbformat": 4,
 "nbformat_minor": 5
}
